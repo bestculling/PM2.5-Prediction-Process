{
 "cells": [
  {
   "cell_type": "markdown",
   "id": "af1d52e7",
   "metadata": {},
   "source": [
    "# Data Understanding\n",
    "## StationID \n",
    "    100t คือ สถานีอุตุนิยมวิทยาจันทบุรี ต.วัดใหม่ อ.เมือง, จันทบุรี\n",
    "- PM25 PM2.5 คือ ฝุ่นละอองขนาดเล็กไม่เกิน 2.5 ไมครอน\n",
    "- PM10 ฝุ่นหยาบ ที่มีอนุภาคเส้นผ่านศูนย์กลาง 2.5–10ไมครอน\n",
    "- O3 ก๊าซโอโซน\n",
    "- CO โคบอลต์\n",
    "- NO2 ก๊าซไนโตรเจนไดออกไซด์\n",
    "- SO2 ซัลเฟอร์ไดออกไซด์\n",
    "- WS ความเร็วลม\n",
    "- WD ทิศทางลม\n",
    "- TEMP อุณหภูมิ\n",
    "- RH ควมชื้นสัมพัทธ์\n",
    "- BP ความกดอากาศ\n",
    "- RAIN ปริมาณน้ำฝน"
   ]
  },
  {
   "cell_type": "code",
   "execution_count": 33,
   "id": "0e3df13e",
   "metadata": {},
   "outputs": [],
   "source": [
    "from math import sqrt\n",
    "import pandas as pd\n",
    "import numpy as np\n",
    "import matplotlib.pyplot as plt\n",
    "import seaborn as sns\n",
    "sns.set()\n",
    "from sklearn.preprocessing import StandardScaler\n",
    "from sklearn.model_selection import train_test_split\n",
    "from sklearn.svm import SVR\n",
    "from sklearn.neural_network import MLPRegressor\n",
    "from sklearn.linear_model import LinearRegression\n",
    "from sklearn.metrics import mean_squared_error, mean_absolute_error"
   ]
  },
  {
   "cell_type": "code",
   "execution_count": 2,
   "id": "43f5a8a2",
   "metadata": {},
   "outputs": [
    {
     "data": {
      "text/html": [
       "<div>\n",
       "<style scoped>\n",
       "    .dataframe tbody tr th:only-of-type {\n",
       "        vertical-align: middle;\n",
       "    }\n",
       "\n",
       "    .dataframe tbody tr th {\n",
       "        vertical-align: top;\n",
       "    }\n",
       "\n",
       "    .dataframe thead th {\n",
       "        text-align: right;\n",
       "    }\n",
       "</style>\n",
       "<table border=\"1\" class=\"dataframe\">\n",
       "  <thead>\n",
       "    <tr style=\"text-align: right;\">\n",
       "      <th></th>\n",
       "      <th>DATETIMEDATA</th>\n",
       "      <th>PM25</th>\n",
       "      <th>PM10</th>\n",
       "      <th>O3</th>\n",
       "      <th>CO</th>\n",
       "      <th>NO2</th>\n",
       "      <th>SO2</th>\n",
       "      <th>WS</th>\n",
       "      <th>WD</th>\n",
       "      <th>TEMP</th>\n",
       "      <th>RH</th>\n",
       "      <th>BP</th>\n",
       "      <th>RAIN</th>\n",
       "    </tr>\n",
       "  </thead>\n",
       "  <tbody>\n",
       "    <tr>\n",
       "      <th>0</th>\n",
       "      <td>2023-08-01 00:00:00</td>\n",
       "      <td>11</td>\n",
       "      <td>32</td>\n",
       "      <td>9.0</td>\n",
       "      <td>0.31</td>\n",
       "      <td>7.000000</td>\n",
       "      <td>1.000000</td>\n",
       "      <td>1.4</td>\n",
       "      <td>183</td>\n",
       "      <td>28.3</td>\n",
       "      <td>87</td>\n",
       "      <td>750</td>\n",
       "      <td>0.0</td>\n",
       "    </tr>\n",
       "    <tr>\n",
       "      <th>1</th>\n",
       "      <td>2023-08-01 01:00:00</td>\n",
       "      <td>12</td>\n",
       "      <td>35</td>\n",
       "      <td>9.0</td>\n",
       "      <td>0.22</td>\n",
       "      <td>7.410755</td>\n",
       "      <td>1.067401</td>\n",
       "      <td>1.3</td>\n",
       "      <td>186</td>\n",
       "      <td>28.0</td>\n",
       "      <td>88</td>\n",
       "      <td>749</td>\n",
       "      <td>0.0</td>\n",
       "    </tr>\n",
       "    <tr>\n",
       "      <th>2</th>\n",
       "      <td>2023-08-01 02:00:00</td>\n",
       "      <td>15</td>\n",
       "      <td>35</td>\n",
       "      <td>10.0</td>\n",
       "      <td>0.19</td>\n",
       "      <td>6.000000</td>\n",
       "      <td>1.000000</td>\n",
       "      <td>1.3</td>\n",
       "      <td>185</td>\n",
       "      <td>28.1</td>\n",
       "      <td>88</td>\n",
       "      <td>749</td>\n",
       "      <td>0.0</td>\n",
       "    </tr>\n",
       "    <tr>\n",
       "      <th>3</th>\n",
       "      <td>2023-08-01 03:00:00</td>\n",
       "      <td>15</td>\n",
       "      <td>31</td>\n",
       "      <td>9.0</td>\n",
       "      <td>0.19</td>\n",
       "      <td>5.000000</td>\n",
       "      <td>1.000000</td>\n",
       "      <td>1.1</td>\n",
       "      <td>181</td>\n",
       "      <td>27.8</td>\n",
       "      <td>88</td>\n",
       "      <td>749</td>\n",
       "      <td>0.0</td>\n",
       "    </tr>\n",
       "    <tr>\n",
       "      <th>4</th>\n",
       "      <td>2023-08-01 04:00:00</td>\n",
       "      <td>12</td>\n",
       "      <td>33</td>\n",
       "      <td>9.0</td>\n",
       "      <td>0.17</td>\n",
       "      <td>4.000000</td>\n",
       "      <td>1.000000</td>\n",
       "      <td>1.0</td>\n",
       "      <td>192</td>\n",
       "      <td>27.9</td>\n",
       "      <td>88</td>\n",
       "      <td>749</td>\n",
       "      <td>0.0</td>\n",
       "    </tr>\n",
       "    <tr>\n",
       "      <th>...</th>\n",
       "      <td>...</td>\n",
       "      <td>...</td>\n",
       "      <td>...</td>\n",
       "      <td>...</td>\n",
       "      <td>...</td>\n",
       "      <td>...</td>\n",
       "      <td>...</td>\n",
       "      <td>...</td>\n",
       "      <td>...</td>\n",
       "      <td>...</td>\n",
       "      <td>...</td>\n",
       "      <td>...</td>\n",
       "      <td>...</td>\n",
       "    </tr>\n",
       "    <tr>\n",
       "      <th>1901</th>\n",
       "      <td>2023-10-19 05:00:00</td>\n",
       "      <td>21</td>\n",
       "      <td>30</td>\n",
       "      <td>3.0</td>\n",
       "      <td>0.36</td>\n",
       "      <td>5.000000</td>\n",
       "      <td>1.067401</td>\n",
       "      <td>0.2</td>\n",
       "      <td>354</td>\n",
       "      <td>25.0</td>\n",
       "      <td>95</td>\n",
       "      <td>751</td>\n",
       "      <td>0.0</td>\n",
       "    </tr>\n",
       "    <tr>\n",
       "      <th>1902</th>\n",
       "      <td>2023-10-19 06:00:00</td>\n",
       "      <td>15</td>\n",
       "      <td>36</td>\n",
       "      <td>3.0</td>\n",
       "      <td>0.38</td>\n",
       "      <td>4.000000</td>\n",
       "      <td>1.067401</td>\n",
       "      <td>0.1</td>\n",
       "      <td>12</td>\n",
       "      <td>25.1</td>\n",
       "      <td>94</td>\n",
       "      <td>752</td>\n",
       "      <td>0.0</td>\n",
       "    </tr>\n",
       "    <tr>\n",
       "      <th>1903</th>\n",
       "      <td>2023-10-19 07:00:00</td>\n",
       "      <td>13</td>\n",
       "      <td>31</td>\n",
       "      <td>6.0</td>\n",
       "      <td>0.39</td>\n",
       "      <td>5.000000</td>\n",
       "      <td>1.067401</td>\n",
       "      <td>0.4</td>\n",
       "      <td>9</td>\n",
       "      <td>26.5</td>\n",
       "      <td>86</td>\n",
       "      <td>752</td>\n",
       "      <td>0.0</td>\n",
       "    </tr>\n",
       "    <tr>\n",
       "      <th>1904</th>\n",
       "      <td>2023-10-19 08:00:00</td>\n",
       "      <td>23</td>\n",
       "      <td>43</td>\n",
       "      <td>12.0</td>\n",
       "      <td>0.42</td>\n",
       "      <td>7.000000</td>\n",
       "      <td>1.067401</td>\n",
       "      <td>0.4</td>\n",
       "      <td>354</td>\n",
       "      <td>28.6</td>\n",
       "      <td>77</td>\n",
       "      <td>752</td>\n",
       "      <td>0.0</td>\n",
       "    </tr>\n",
       "    <tr>\n",
       "      <th>1905</th>\n",
       "      <td>2023-10-19 09:00:00</td>\n",
       "      <td>26</td>\n",
       "      <td>39</td>\n",
       "      <td>22.0</td>\n",
       "      <td>0.38</td>\n",
       "      <td>7.000000</td>\n",
       "      <td>1.000000</td>\n",
       "      <td>0.6</td>\n",
       "      <td>17</td>\n",
       "      <td>30.4</td>\n",
       "      <td>70</td>\n",
       "      <td>752</td>\n",
       "      <td>0.0</td>\n",
       "    </tr>\n",
       "  </tbody>\n",
       "</table>\n",
       "<p>1906 rows × 13 columns</p>\n",
       "</div>"
      ],
      "text/plain": [
       "             DATETIMEDATA  PM25  PM10    O3    CO       NO2       SO2   WS  \\\n",
       "0     2023-08-01 00:00:00    11    32   9.0  0.31  7.000000  1.000000  1.4   \n",
       "1     2023-08-01 01:00:00    12    35   9.0  0.22  7.410755  1.067401  1.3   \n",
       "2     2023-08-01 02:00:00    15    35  10.0  0.19  6.000000  1.000000  1.3   \n",
       "3     2023-08-01 03:00:00    15    31   9.0  0.19  5.000000  1.000000  1.1   \n",
       "4     2023-08-01 04:00:00    12    33   9.0  0.17  4.000000  1.000000  1.0   \n",
       "...                   ...   ...   ...   ...   ...       ...       ...  ...   \n",
       "1901  2023-10-19 05:00:00    21    30   3.0  0.36  5.000000  1.067401  0.2   \n",
       "1902  2023-10-19 06:00:00    15    36   3.0  0.38  4.000000  1.067401  0.1   \n",
       "1903  2023-10-19 07:00:00    13    31   6.0  0.39  5.000000  1.067401  0.4   \n",
       "1904  2023-10-19 08:00:00    23    43  12.0  0.42  7.000000  1.067401  0.4   \n",
       "1905  2023-10-19 09:00:00    26    39  22.0  0.38  7.000000  1.000000  0.6   \n",
       "\n",
       "       WD  TEMP  RH   BP  RAIN  \n",
       "0     183  28.3  87  750   0.0  \n",
       "1     186  28.0  88  749   0.0  \n",
       "2     185  28.1  88  749   0.0  \n",
       "3     181  27.8  88  749   0.0  \n",
       "4     192  27.9  88  749   0.0  \n",
       "...   ...   ...  ..  ...   ...  \n",
       "1901  354  25.0  95  751   0.0  \n",
       "1902   12  25.1  94  752   0.0  \n",
       "1903    9  26.5  86  752   0.0  \n",
       "1904  354  28.6  77  752   0.0  \n",
       "1905   17  30.4  70  752   0.0  \n",
       "\n",
       "[1906 rows x 13 columns]"
      ]
     },
     "execution_count": 2,
     "metadata": {},
     "output_type": "execute_result"
    }
   ],
   "source": [
    "# Load Datasets\n",
    "df = pd.read_csv('data/PM25_Station100t_with_Prep.csv')\n",
    "df"
   ]
  },
  {
   "cell_type": "code",
   "execution_count": 3,
   "id": "03bbd169",
   "metadata": {},
   "outputs": [
    {
     "data": {
      "text/html": [
       "<div>\n",
       "<style scoped>\n",
       "    .dataframe tbody tr th:only-of-type {\n",
       "        vertical-align: middle;\n",
       "    }\n",
       "\n",
       "    .dataframe tbody tr th {\n",
       "        vertical-align: top;\n",
       "    }\n",
       "\n",
       "    .dataframe thead th {\n",
       "        text-align: right;\n",
       "    }\n",
       "</style>\n",
       "<table border=\"1\" class=\"dataframe\">\n",
       "  <thead>\n",
       "    <tr style=\"text-align: right;\">\n",
       "      <th></th>\n",
       "      <th>PM25</th>\n",
       "      <th>PM10</th>\n",
       "      <th>O3</th>\n",
       "      <th>CO</th>\n",
       "      <th>NO2</th>\n",
       "      <th>SO2</th>\n",
       "      <th>WS</th>\n",
       "      <th>WD</th>\n",
       "      <th>TEMP</th>\n",
       "      <th>RH</th>\n",
       "      <th>BP</th>\n",
       "      <th>RAIN</th>\n",
       "    </tr>\n",
       "  </thead>\n",
       "  <tbody>\n",
       "    <tr>\n",
       "      <th>0</th>\n",
       "      <td>11</td>\n",
       "      <td>32</td>\n",
       "      <td>9.0</td>\n",
       "      <td>0.31</td>\n",
       "      <td>7.000000</td>\n",
       "      <td>1.000000</td>\n",
       "      <td>1.4</td>\n",
       "      <td>183</td>\n",
       "      <td>28.3</td>\n",
       "      <td>87</td>\n",
       "      <td>750</td>\n",
       "      <td>0.0</td>\n",
       "    </tr>\n",
       "    <tr>\n",
       "      <th>1</th>\n",
       "      <td>12</td>\n",
       "      <td>35</td>\n",
       "      <td>9.0</td>\n",
       "      <td>0.22</td>\n",
       "      <td>7.410755</td>\n",
       "      <td>1.067401</td>\n",
       "      <td>1.3</td>\n",
       "      <td>186</td>\n",
       "      <td>28.0</td>\n",
       "      <td>88</td>\n",
       "      <td>749</td>\n",
       "      <td>0.0</td>\n",
       "    </tr>\n",
       "    <tr>\n",
       "      <th>2</th>\n",
       "      <td>15</td>\n",
       "      <td>35</td>\n",
       "      <td>10.0</td>\n",
       "      <td>0.19</td>\n",
       "      <td>6.000000</td>\n",
       "      <td>1.000000</td>\n",
       "      <td>1.3</td>\n",
       "      <td>185</td>\n",
       "      <td>28.1</td>\n",
       "      <td>88</td>\n",
       "      <td>749</td>\n",
       "      <td>0.0</td>\n",
       "    </tr>\n",
       "    <tr>\n",
       "      <th>3</th>\n",
       "      <td>15</td>\n",
       "      <td>31</td>\n",
       "      <td>9.0</td>\n",
       "      <td>0.19</td>\n",
       "      <td>5.000000</td>\n",
       "      <td>1.000000</td>\n",
       "      <td>1.1</td>\n",
       "      <td>181</td>\n",
       "      <td>27.8</td>\n",
       "      <td>88</td>\n",
       "      <td>749</td>\n",
       "      <td>0.0</td>\n",
       "    </tr>\n",
       "    <tr>\n",
       "      <th>4</th>\n",
       "      <td>12</td>\n",
       "      <td>33</td>\n",
       "      <td>9.0</td>\n",
       "      <td>0.17</td>\n",
       "      <td>4.000000</td>\n",
       "      <td>1.000000</td>\n",
       "      <td>1.0</td>\n",
       "      <td>192</td>\n",
       "      <td>27.9</td>\n",
       "      <td>88</td>\n",
       "      <td>749</td>\n",
       "      <td>0.0</td>\n",
       "    </tr>\n",
       "    <tr>\n",
       "      <th>...</th>\n",
       "      <td>...</td>\n",
       "      <td>...</td>\n",
       "      <td>...</td>\n",
       "      <td>...</td>\n",
       "      <td>...</td>\n",
       "      <td>...</td>\n",
       "      <td>...</td>\n",
       "      <td>...</td>\n",
       "      <td>...</td>\n",
       "      <td>...</td>\n",
       "      <td>...</td>\n",
       "      <td>...</td>\n",
       "    </tr>\n",
       "    <tr>\n",
       "      <th>1901</th>\n",
       "      <td>21</td>\n",
       "      <td>30</td>\n",
       "      <td>3.0</td>\n",
       "      <td>0.36</td>\n",
       "      <td>5.000000</td>\n",
       "      <td>1.067401</td>\n",
       "      <td>0.2</td>\n",
       "      <td>354</td>\n",
       "      <td>25.0</td>\n",
       "      <td>95</td>\n",
       "      <td>751</td>\n",
       "      <td>0.0</td>\n",
       "    </tr>\n",
       "    <tr>\n",
       "      <th>1902</th>\n",
       "      <td>15</td>\n",
       "      <td>36</td>\n",
       "      <td>3.0</td>\n",
       "      <td>0.38</td>\n",
       "      <td>4.000000</td>\n",
       "      <td>1.067401</td>\n",
       "      <td>0.1</td>\n",
       "      <td>12</td>\n",
       "      <td>25.1</td>\n",
       "      <td>94</td>\n",
       "      <td>752</td>\n",
       "      <td>0.0</td>\n",
       "    </tr>\n",
       "    <tr>\n",
       "      <th>1903</th>\n",
       "      <td>13</td>\n",
       "      <td>31</td>\n",
       "      <td>6.0</td>\n",
       "      <td>0.39</td>\n",
       "      <td>5.000000</td>\n",
       "      <td>1.067401</td>\n",
       "      <td>0.4</td>\n",
       "      <td>9</td>\n",
       "      <td>26.5</td>\n",
       "      <td>86</td>\n",
       "      <td>752</td>\n",
       "      <td>0.0</td>\n",
       "    </tr>\n",
       "    <tr>\n",
       "      <th>1904</th>\n",
       "      <td>23</td>\n",
       "      <td>43</td>\n",
       "      <td>12.0</td>\n",
       "      <td>0.42</td>\n",
       "      <td>7.000000</td>\n",
       "      <td>1.067401</td>\n",
       "      <td>0.4</td>\n",
       "      <td>354</td>\n",
       "      <td>28.6</td>\n",
       "      <td>77</td>\n",
       "      <td>752</td>\n",
       "      <td>0.0</td>\n",
       "    </tr>\n",
       "    <tr>\n",
       "      <th>1905</th>\n",
       "      <td>26</td>\n",
       "      <td>39</td>\n",
       "      <td>22.0</td>\n",
       "      <td>0.38</td>\n",
       "      <td>7.000000</td>\n",
       "      <td>1.000000</td>\n",
       "      <td>0.6</td>\n",
       "      <td>17</td>\n",
       "      <td>30.4</td>\n",
       "      <td>70</td>\n",
       "      <td>752</td>\n",
       "      <td>0.0</td>\n",
       "    </tr>\n",
       "  </tbody>\n",
       "</table>\n",
       "<p>1906 rows × 12 columns</p>\n",
       "</div>"
      ],
      "text/plain": [
       "      PM25  PM10    O3    CO       NO2       SO2   WS   WD  TEMP  RH   BP  \\\n",
       "0       11    32   9.0  0.31  7.000000  1.000000  1.4  183  28.3  87  750   \n",
       "1       12    35   9.0  0.22  7.410755  1.067401  1.3  186  28.0  88  749   \n",
       "2       15    35  10.0  0.19  6.000000  1.000000  1.3  185  28.1  88  749   \n",
       "3       15    31   9.0  0.19  5.000000  1.000000  1.1  181  27.8  88  749   \n",
       "4       12    33   9.0  0.17  4.000000  1.000000  1.0  192  27.9  88  749   \n",
       "...    ...   ...   ...   ...       ...       ...  ...  ...   ...  ..  ...   \n",
       "1901    21    30   3.0  0.36  5.000000  1.067401  0.2  354  25.0  95  751   \n",
       "1902    15    36   3.0  0.38  4.000000  1.067401  0.1   12  25.1  94  752   \n",
       "1903    13    31   6.0  0.39  5.000000  1.067401  0.4    9  26.5  86  752   \n",
       "1904    23    43  12.0  0.42  7.000000  1.067401  0.4  354  28.6  77  752   \n",
       "1905    26    39  22.0  0.38  7.000000  1.000000  0.6   17  30.4  70  752   \n",
       "\n",
       "      RAIN  \n",
       "0      0.0  \n",
       "1      0.0  \n",
       "2      0.0  \n",
       "3      0.0  \n",
       "4      0.0  \n",
       "...    ...  \n",
       "1901   0.0  \n",
       "1902   0.0  \n",
       "1903   0.0  \n",
       "1904   0.0  \n",
       "1905   0.0  \n",
       "\n",
       "[1906 rows x 12 columns]"
      ]
     },
     "execution_count": 3,
     "metadata": {},
     "output_type": "execute_result"
    }
   ],
   "source": [
    "data = df.drop(columns=[\"DATETIMEDATA\"])\n",
    "data"
   ]
  },
  {
   "cell_type": "code",
   "execution_count": 4,
   "id": "01a16324",
   "metadata": {},
   "outputs": [],
   "source": [
    "X = data.drop(columns=[\"PM25\"])  # คอลัมน์ที่ไม่ใช่ \"PM25\" เป็นค่าเข้า (features)\n",
    "y = data[\"PM25\"]  # \"PM25\" เป็นค่าเป้าหมาย"
   ]
  },
  {
   "cell_type": "code",
   "execution_count": 5,
   "id": "066ea086",
   "metadata": {},
   "outputs": [
    {
     "data": {
      "text/html": [
       "<div>\n",
       "<style scoped>\n",
       "    .dataframe tbody tr th:only-of-type {\n",
       "        vertical-align: middle;\n",
       "    }\n",
       "\n",
       "    .dataframe tbody tr th {\n",
       "        vertical-align: top;\n",
       "    }\n",
       "\n",
       "    .dataframe thead th {\n",
       "        text-align: right;\n",
       "    }\n",
       "</style>\n",
       "<table border=\"1\" class=\"dataframe\">\n",
       "  <thead>\n",
       "    <tr style=\"text-align: right;\">\n",
       "      <th></th>\n",
       "      <th>PM10</th>\n",
       "      <th>O3</th>\n",
       "      <th>CO</th>\n",
       "      <th>NO2</th>\n",
       "      <th>SO2</th>\n",
       "      <th>WS</th>\n",
       "      <th>WD</th>\n",
       "      <th>TEMP</th>\n",
       "      <th>RH</th>\n",
       "      <th>BP</th>\n",
       "      <th>RAIN</th>\n",
       "    </tr>\n",
       "  </thead>\n",
       "  <tbody>\n",
       "    <tr>\n",
       "      <th>0</th>\n",
       "      <td>32</td>\n",
       "      <td>9.0</td>\n",
       "      <td>0.31</td>\n",
       "      <td>7.000000</td>\n",
       "      <td>1.000000</td>\n",
       "      <td>1.4</td>\n",
       "      <td>183</td>\n",
       "      <td>28.3</td>\n",
       "      <td>87</td>\n",
       "      <td>750</td>\n",
       "      <td>0.0</td>\n",
       "    </tr>\n",
       "    <tr>\n",
       "      <th>1</th>\n",
       "      <td>35</td>\n",
       "      <td>9.0</td>\n",
       "      <td>0.22</td>\n",
       "      <td>7.410755</td>\n",
       "      <td>1.067401</td>\n",
       "      <td>1.3</td>\n",
       "      <td>186</td>\n",
       "      <td>28.0</td>\n",
       "      <td>88</td>\n",
       "      <td>749</td>\n",
       "      <td>0.0</td>\n",
       "    </tr>\n",
       "    <tr>\n",
       "      <th>2</th>\n",
       "      <td>35</td>\n",
       "      <td>10.0</td>\n",
       "      <td>0.19</td>\n",
       "      <td>6.000000</td>\n",
       "      <td>1.000000</td>\n",
       "      <td>1.3</td>\n",
       "      <td>185</td>\n",
       "      <td>28.1</td>\n",
       "      <td>88</td>\n",
       "      <td>749</td>\n",
       "      <td>0.0</td>\n",
       "    </tr>\n",
       "    <tr>\n",
       "      <th>3</th>\n",
       "      <td>31</td>\n",
       "      <td>9.0</td>\n",
       "      <td>0.19</td>\n",
       "      <td>5.000000</td>\n",
       "      <td>1.000000</td>\n",
       "      <td>1.1</td>\n",
       "      <td>181</td>\n",
       "      <td>27.8</td>\n",
       "      <td>88</td>\n",
       "      <td>749</td>\n",
       "      <td>0.0</td>\n",
       "    </tr>\n",
       "    <tr>\n",
       "      <th>4</th>\n",
       "      <td>33</td>\n",
       "      <td>9.0</td>\n",
       "      <td>0.17</td>\n",
       "      <td>4.000000</td>\n",
       "      <td>1.000000</td>\n",
       "      <td>1.0</td>\n",
       "      <td>192</td>\n",
       "      <td>27.9</td>\n",
       "      <td>88</td>\n",
       "      <td>749</td>\n",
       "      <td>0.0</td>\n",
       "    </tr>\n",
       "    <tr>\n",
       "      <th>...</th>\n",
       "      <td>...</td>\n",
       "      <td>...</td>\n",
       "      <td>...</td>\n",
       "      <td>...</td>\n",
       "      <td>...</td>\n",
       "      <td>...</td>\n",
       "      <td>...</td>\n",
       "      <td>...</td>\n",
       "      <td>...</td>\n",
       "      <td>...</td>\n",
       "      <td>...</td>\n",
       "    </tr>\n",
       "    <tr>\n",
       "      <th>1901</th>\n",
       "      <td>30</td>\n",
       "      <td>3.0</td>\n",
       "      <td>0.36</td>\n",
       "      <td>5.000000</td>\n",
       "      <td>1.067401</td>\n",
       "      <td>0.2</td>\n",
       "      <td>354</td>\n",
       "      <td>25.0</td>\n",
       "      <td>95</td>\n",
       "      <td>751</td>\n",
       "      <td>0.0</td>\n",
       "    </tr>\n",
       "    <tr>\n",
       "      <th>1902</th>\n",
       "      <td>36</td>\n",
       "      <td>3.0</td>\n",
       "      <td>0.38</td>\n",
       "      <td>4.000000</td>\n",
       "      <td>1.067401</td>\n",
       "      <td>0.1</td>\n",
       "      <td>12</td>\n",
       "      <td>25.1</td>\n",
       "      <td>94</td>\n",
       "      <td>752</td>\n",
       "      <td>0.0</td>\n",
       "    </tr>\n",
       "    <tr>\n",
       "      <th>1903</th>\n",
       "      <td>31</td>\n",
       "      <td>6.0</td>\n",
       "      <td>0.39</td>\n",
       "      <td>5.000000</td>\n",
       "      <td>1.067401</td>\n",
       "      <td>0.4</td>\n",
       "      <td>9</td>\n",
       "      <td>26.5</td>\n",
       "      <td>86</td>\n",
       "      <td>752</td>\n",
       "      <td>0.0</td>\n",
       "    </tr>\n",
       "    <tr>\n",
       "      <th>1904</th>\n",
       "      <td>43</td>\n",
       "      <td>12.0</td>\n",
       "      <td>0.42</td>\n",
       "      <td>7.000000</td>\n",
       "      <td>1.067401</td>\n",
       "      <td>0.4</td>\n",
       "      <td>354</td>\n",
       "      <td>28.6</td>\n",
       "      <td>77</td>\n",
       "      <td>752</td>\n",
       "      <td>0.0</td>\n",
       "    </tr>\n",
       "    <tr>\n",
       "      <th>1905</th>\n",
       "      <td>39</td>\n",
       "      <td>22.0</td>\n",
       "      <td>0.38</td>\n",
       "      <td>7.000000</td>\n",
       "      <td>1.000000</td>\n",
       "      <td>0.6</td>\n",
       "      <td>17</td>\n",
       "      <td>30.4</td>\n",
       "      <td>70</td>\n",
       "      <td>752</td>\n",
       "      <td>0.0</td>\n",
       "    </tr>\n",
       "  </tbody>\n",
       "</table>\n",
       "<p>1906 rows × 11 columns</p>\n",
       "</div>"
      ],
      "text/plain": [
       "      PM10    O3    CO       NO2       SO2   WS   WD  TEMP  RH   BP  RAIN\n",
       "0       32   9.0  0.31  7.000000  1.000000  1.4  183  28.3  87  750   0.0\n",
       "1       35   9.0  0.22  7.410755  1.067401  1.3  186  28.0  88  749   0.0\n",
       "2       35  10.0  0.19  6.000000  1.000000  1.3  185  28.1  88  749   0.0\n",
       "3       31   9.0  0.19  5.000000  1.000000  1.1  181  27.8  88  749   0.0\n",
       "4       33   9.0  0.17  4.000000  1.000000  1.0  192  27.9  88  749   0.0\n",
       "...    ...   ...   ...       ...       ...  ...  ...   ...  ..  ...   ...\n",
       "1901    30   3.0  0.36  5.000000  1.067401  0.2  354  25.0  95  751   0.0\n",
       "1902    36   3.0  0.38  4.000000  1.067401  0.1   12  25.1  94  752   0.0\n",
       "1903    31   6.0  0.39  5.000000  1.067401  0.4    9  26.5  86  752   0.0\n",
       "1904    43  12.0  0.42  7.000000  1.067401  0.4  354  28.6  77  752   0.0\n",
       "1905    39  22.0  0.38  7.000000  1.000000  0.6   17  30.4  70  752   0.0\n",
       "\n",
       "[1906 rows x 11 columns]"
      ]
     },
     "execution_count": 5,
     "metadata": {},
     "output_type": "execute_result"
    }
   ],
   "source": [
    "X"
   ]
  },
  {
   "cell_type": "code",
   "execution_count": 6,
   "id": "eaf229d1",
   "metadata": {},
   "outputs": [
    {
     "data": {
      "text/plain": [
       "0       11\n",
       "1       12\n",
       "2       15\n",
       "3       15\n",
       "4       12\n",
       "        ..\n",
       "1901    21\n",
       "1902    15\n",
       "1903    13\n",
       "1904    23\n",
       "1905    26\n",
       "Name: PM25, Length: 1906, dtype: int64"
      ]
     },
     "execution_count": 6,
     "metadata": {},
     "output_type": "execute_result"
    }
   ],
   "source": [
    "y"
   ]
  },
  {
   "cell_type": "code",
   "execution_count": 9,
   "id": "d78ddb90",
   "metadata": {},
   "outputs": [],
   "source": [
    "X_train, X_test, y_train, y_test = train_test_split(X, y, test_size=0.2, random_state=42)"
   ]
  },
  {
   "cell_type": "code",
   "execution_count": 14,
   "id": "42f8ef92",
   "metadata": {},
   "outputs": [],
   "source": [
    "scaler = StandardScaler()\n",
    "X_train_scaled = scaler.fit_transform(X_train)\n",
    "X_test_scaled = scaler.transform(X_test)"
   ]
  },
  {
   "cell_type": "code",
   "execution_count": 15,
   "id": "7551345c",
   "metadata": {},
   "outputs": [
    {
     "data": {
      "text/plain": [
       "array([[-0.02768924, -0.34872666,  0.32542837, ...,  0.03579247,\n",
       "         0.43198176, -0.13826791],\n",
       "       [-0.75274777, -1.02331518, -0.56503234, ...,  1.25212255,\n",
       "        -0.1992169 , -0.13826791],\n",
       "       [-0.89775948, -0.18007953,  0.32542837, ...,  0.31648403,\n",
       "         0.43198176, -0.13826791],\n",
       "       ...,\n",
       "       [ 1.42242781, -1.02331518,  1.01800892, ...,  0.12935632,\n",
       "        -0.1992169 , -0.13826791],\n",
       "       [-0.17270095, -0.01319494,  0.91906884, ..., -0.33846294,\n",
       "         0.43198176, -0.13826791],\n",
       "       [ 0.26233417,  0.15721473, -0.2682121 , ...,  0.50361173,\n",
       "         0.43198176, -0.13826791]])"
      ]
     },
     "execution_count": 15,
     "metadata": {},
     "output_type": "execute_result"
    }
   ],
   "source": [
    "X_train_scaled"
   ]
  },
  {
   "cell_type": "code",
   "execution_count": 16,
   "id": "e2f1e489",
   "metadata": {},
   "outputs": [
    {
     "data": {
      "text/plain": [
       "array([[ 0.40734587, -1.52925657, -0.16927202, ...,  1.1585587 ,\n",
       "         0.43198176, -0.13826791],\n",
       "       [ 1.42242781,  0.32586186, -0.66397242, ..., -1.08697376,\n",
       "         0.43198176, -0.13826791],\n",
       "       [-0.31771265,  2.34962742,  0.72118869, ..., -2.30330384,\n",
       "        -0.83041557, -0.13826791],\n",
       "       ...,\n",
       "       [ 0.26233417,  0.66315612, -0.96079266, ..., -0.15133523,\n",
       "        -1.46161424, -0.13826791],\n",
       "       [ 0.40734587, -0.51737379,  0.42436845, ..., -0.99340991,\n",
       "        -0.1992169 , -0.13826791],\n",
       "       [-0.17270095,  0.15721473,  0.72118869, ..., -0.24489909,\n",
       "        -2.0928129 , -0.13826791]])"
      ]
     },
     "execution_count": 16,
     "metadata": {},
     "output_type": "execute_result"
    }
   ],
   "source": [
    "X_test_scaled"
   ]
  },
  {
   "cell_type": "code",
   "execution_count": 17,
   "id": "956d1706",
   "metadata": {},
   "outputs": [
    {
     "data": {
      "text/html": [
       "<style>#sk-container-id-2 {color: black;}#sk-container-id-2 pre{padding: 0;}#sk-container-id-2 div.sk-toggleable {background-color: white;}#sk-container-id-2 label.sk-toggleable__label {cursor: pointer;display: block;width: 100%;margin-bottom: 0;padding: 0.3em;box-sizing: border-box;text-align: center;}#sk-container-id-2 label.sk-toggleable__label-arrow:before {content: \"▸\";float: left;margin-right: 0.25em;color: #696969;}#sk-container-id-2 label.sk-toggleable__label-arrow:hover:before {color: black;}#sk-container-id-2 div.sk-estimator:hover label.sk-toggleable__label-arrow:before {color: black;}#sk-container-id-2 div.sk-toggleable__content {max-height: 0;max-width: 0;overflow: hidden;text-align: left;background-color: #f0f8ff;}#sk-container-id-2 div.sk-toggleable__content pre {margin: 0.2em;color: black;border-radius: 0.25em;background-color: #f0f8ff;}#sk-container-id-2 input.sk-toggleable__control:checked~div.sk-toggleable__content {max-height: 200px;max-width: 100%;overflow: auto;}#sk-container-id-2 input.sk-toggleable__control:checked~label.sk-toggleable__label-arrow:before {content: \"▾\";}#sk-container-id-2 div.sk-estimator input.sk-toggleable__control:checked~label.sk-toggleable__label {background-color: #d4ebff;}#sk-container-id-2 div.sk-label input.sk-toggleable__control:checked~label.sk-toggleable__label {background-color: #d4ebff;}#sk-container-id-2 input.sk-hidden--visually {border: 0;clip: rect(1px 1px 1px 1px);clip: rect(1px, 1px, 1px, 1px);height: 1px;margin: -1px;overflow: hidden;padding: 0;position: absolute;width: 1px;}#sk-container-id-2 div.sk-estimator {font-family: monospace;background-color: #f0f8ff;border: 1px dotted black;border-radius: 0.25em;box-sizing: border-box;margin-bottom: 0.5em;}#sk-container-id-2 div.sk-estimator:hover {background-color: #d4ebff;}#sk-container-id-2 div.sk-parallel-item::after {content: \"\";width: 100%;border-bottom: 1px solid gray;flex-grow: 1;}#sk-container-id-2 div.sk-label:hover label.sk-toggleable__label {background-color: #d4ebff;}#sk-container-id-2 div.sk-serial::before {content: \"\";position: absolute;border-left: 1px solid gray;box-sizing: border-box;top: 0;bottom: 0;left: 50%;z-index: 0;}#sk-container-id-2 div.sk-serial {display: flex;flex-direction: column;align-items: center;background-color: white;padding-right: 0.2em;padding-left: 0.2em;position: relative;}#sk-container-id-2 div.sk-item {position: relative;z-index: 1;}#sk-container-id-2 div.sk-parallel {display: flex;align-items: stretch;justify-content: center;background-color: white;position: relative;}#sk-container-id-2 div.sk-item::before, #sk-container-id-2 div.sk-parallel-item::before {content: \"\";position: absolute;border-left: 1px solid gray;box-sizing: border-box;top: 0;bottom: 0;left: 50%;z-index: -1;}#sk-container-id-2 div.sk-parallel-item {display: flex;flex-direction: column;z-index: 1;position: relative;background-color: white;}#sk-container-id-2 div.sk-parallel-item:first-child::after {align-self: flex-end;width: 50%;}#sk-container-id-2 div.sk-parallel-item:last-child::after {align-self: flex-start;width: 50%;}#sk-container-id-2 div.sk-parallel-item:only-child::after {width: 0;}#sk-container-id-2 div.sk-dashed-wrapped {border: 1px dashed gray;margin: 0 0.4em 0.5em 0.4em;box-sizing: border-box;padding-bottom: 0.4em;background-color: white;}#sk-container-id-2 div.sk-label label {font-family: monospace;font-weight: bold;display: inline-block;line-height: 1.2em;}#sk-container-id-2 div.sk-label-container {text-align: center;}#sk-container-id-2 div.sk-container {/* jupyter's `normalize.less` sets `[hidden] { display: none; }` but bootstrap.min.css set `[hidden] { display: none !important; }` so we also need the `!important` here to be able to override the default hidden behavior on the sphinx rendered scikit-learn.org. See: https://github.com/scikit-learn/scikit-learn/issues/21755 */display: inline-block !important;position: relative;}#sk-container-id-2 div.sk-text-repr-fallback {display: none;}</style><div id=\"sk-container-id-2\" class=\"sk-top-container\"><div class=\"sk-text-repr-fallback\"><pre>SVR()</pre><b>In a Jupyter environment, please rerun this cell to show the HTML representation or trust the notebook. <br />On GitHub, the HTML representation is unable to render, please try loading this page with nbviewer.org.</b></div><div class=\"sk-container\" hidden><div class=\"sk-item\"><div class=\"sk-estimator sk-toggleable\"><input class=\"sk-toggleable__control sk-hidden--visually\" id=\"sk-estimator-id-2\" type=\"checkbox\" checked><label for=\"sk-estimator-id-2\" class=\"sk-toggleable__label sk-toggleable__label-arrow\">SVR</label><div class=\"sk-toggleable__content\"><pre>SVR()</pre></div></div></div></div></div>"
      ],
      "text/plain": [
       "SVR()"
      ]
     },
     "execution_count": 17,
     "metadata": {},
     "output_type": "execute_result"
    }
   ],
   "source": [
    "svr = SVR()\n",
    "svr.fit(X_train_scaled, y_train)"
   ]
  },
  {
   "cell_type": "code",
   "execution_count": 18,
   "id": "21bac8c3",
   "metadata": {},
   "outputs": [],
   "source": [
    "y_pred = svr.predict(X_test_scaled)"
   ]
  },
  {
   "cell_type": "code",
   "execution_count": 21,
   "id": "89681397",
   "metadata": {},
   "outputs": [
    {
     "name": "stdout",
     "output_type": "stream",
     "text": [
      "Root Mean Squared Error (RMSE): 3.086883834973105\n"
     ]
    }
   ],
   "source": [
    "# คำนวณค่า RMSE (Root Mean Squared Error) เพื่อประเมินความผิดพลาด\n",
    "rmse = sqrt(mean_squared_error(y_test, y_pred))\n",
    "print(\"Root Mean Squared Error (RMSE):\", rmse)"
   ]
  },
  {
   "cell_type": "code",
   "execution_count": 24,
   "id": "82b30c30",
   "metadata": {},
   "outputs": [
    {
     "name": "stdout",
     "output_type": "stream",
     "text": [
      "Mean Absolute Error (MAE): 2.2204278217612985\n"
     ]
    }
   ],
   "source": [
    "# คำนวณค่า MAE (Mean Absolute Error) เพื่อประเมินความผิดพลาด\n",
    "mae = mean_absolute_error(y_test, y_pred)\n",
    "print(\"Mean Absolute Error (MAE):\", mae)"
   ]
  },
  {
   "cell_type": "code",
   "execution_count": 28,
   "id": "afeeaa1a",
   "metadata": {},
   "outputs": [
    {
     "data": {
      "text/html": [
       "<style>#sk-container-id-3 {color: black;}#sk-container-id-3 pre{padding: 0;}#sk-container-id-3 div.sk-toggleable {background-color: white;}#sk-container-id-3 label.sk-toggleable__label {cursor: pointer;display: block;width: 100%;margin-bottom: 0;padding: 0.3em;box-sizing: border-box;text-align: center;}#sk-container-id-3 label.sk-toggleable__label-arrow:before {content: \"▸\";float: left;margin-right: 0.25em;color: #696969;}#sk-container-id-3 label.sk-toggleable__label-arrow:hover:before {color: black;}#sk-container-id-3 div.sk-estimator:hover label.sk-toggleable__label-arrow:before {color: black;}#sk-container-id-3 div.sk-toggleable__content {max-height: 0;max-width: 0;overflow: hidden;text-align: left;background-color: #f0f8ff;}#sk-container-id-3 div.sk-toggleable__content pre {margin: 0.2em;color: black;border-radius: 0.25em;background-color: #f0f8ff;}#sk-container-id-3 input.sk-toggleable__control:checked~div.sk-toggleable__content {max-height: 200px;max-width: 100%;overflow: auto;}#sk-container-id-3 input.sk-toggleable__control:checked~label.sk-toggleable__label-arrow:before {content: \"▾\";}#sk-container-id-3 div.sk-estimator input.sk-toggleable__control:checked~label.sk-toggleable__label {background-color: #d4ebff;}#sk-container-id-3 div.sk-label input.sk-toggleable__control:checked~label.sk-toggleable__label {background-color: #d4ebff;}#sk-container-id-3 input.sk-hidden--visually {border: 0;clip: rect(1px 1px 1px 1px);clip: rect(1px, 1px, 1px, 1px);height: 1px;margin: -1px;overflow: hidden;padding: 0;position: absolute;width: 1px;}#sk-container-id-3 div.sk-estimator {font-family: monospace;background-color: #f0f8ff;border: 1px dotted black;border-radius: 0.25em;box-sizing: border-box;margin-bottom: 0.5em;}#sk-container-id-3 div.sk-estimator:hover {background-color: #d4ebff;}#sk-container-id-3 div.sk-parallel-item::after {content: \"\";width: 100%;border-bottom: 1px solid gray;flex-grow: 1;}#sk-container-id-3 div.sk-label:hover label.sk-toggleable__label {background-color: #d4ebff;}#sk-container-id-3 div.sk-serial::before {content: \"\";position: absolute;border-left: 1px solid gray;box-sizing: border-box;top: 0;bottom: 0;left: 50%;z-index: 0;}#sk-container-id-3 div.sk-serial {display: flex;flex-direction: column;align-items: center;background-color: white;padding-right: 0.2em;padding-left: 0.2em;position: relative;}#sk-container-id-3 div.sk-item {position: relative;z-index: 1;}#sk-container-id-3 div.sk-parallel {display: flex;align-items: stretch;justify-content: center;background-color: white;position: relative;}#sk-container-id-3 div.sk-item::before, #sk-container-id-3 div.sk-parallel-item::before {content: \"\";position: absolute;border-left: 1px solid gray;box-sizing: border-box;top: 0;bottom: 0;left: 50%;z-index: -1;}#sk-container-id-3 div.sk-parallel-item {display: flex;flex-direction: column;z-index: 1;position: relative;background-color: white;}#sk-container-id-3 div.sk-parallel-item:first-child::after {align-self: flex-end;width: 50%;}#sk-container-id-3 div.sk-parallel-item:last-child::after {align-self: flex-start;width: 50%;}#sk-container-id-3 div.sk-parallel-item:only-child::after {width: 0;}#sk-container-id-3 div.sk-dashed-wrapped {border: 1px dashed gray;margin: 0 0.4em 0.5em 0.4em;box-sizing: border-box;padding-bottom: 0.4em;background-color: white;}#sk-container-id-3 div.sk-label label {font-family: monospace;font-weight: bold;display: inline-block;line-height: 1.2em;}#sk-container-id-3 div.sk-label-container {text-align: center;}#sk-container-id-3 div.sk-container {/* jupyter's `normalize.less` sets `[hidden] { display: none; }` but bootstrap.min.css set `[hidden] { display: none !important; }` so we also need the `!important` here to be able to override the default hidden behavior on the sphinx rendered scikit-learn.org. See: https://github.com/scikit-learn/scikit-learn/issues/21755 */display: inline-block !important;position: relative;}#sk-container-id-3 div.sk-text-repr-fallback {display: none;}</style><div id=\"sk-container-id-3\" class=\"sk-top-container\"><div class=\"sk-text-repr-fallback\"><pre>MLPRegressor(hidden_layer_sizes=(100, 50), max_iter=1000, random_state=42)</pre><b>In a Jupyter environment, please rerun this cell to show the HTML representation or trust the notebook. <br />On GitHub, the HTML representation is unable to render, please try loading this page with nbviewer.org.</b></div><div class=\"sk-container\" hidden><div class=\"sk-item\"><div class=\"sk-estimator sk-toggleable\"><input class=\"sk-toggleable__control sk-hidden--visually\" id=\"sk-estimator-id-3\" type=\"checkbox\" checked><label for=\"sk-estimator-id-3\" class=\"sk-toggleable__label sk-toggleable__label-arrow\">MLPRegressor</label><div class=\"sk-toggleable__content\"><pre>MLPRegressor(hidden_layer_sizes=(100, 50), max_iter=1000, random_state=42)</pre></div></div></div></div></div>"
      ],
      "text/plain": [
       "MLPRegressor(hidden_layer_sizes=(100, 50), max_iter=1000, random_state=42)"
      ]
     },
     "execution_count": 28,
     "metadata": {},
     "output_type": "execute_result"
    }
   ],
   "source": [
    "mlp = MLPRegressor(hidden_layer_sizes=(100, 50), max_iter=1000, random_state=42)\n",
    "mlp.fit(X_train_scaled, y_train)"
   ]
  },
  {
   "cell_type": "code",
   "execution_count": 29,
   "id": "68896932",
   "metadata": {},
   "outputs": [],
   "source": [
    "y_pred_mlp = mlp.predict(X_test_scaled)"
   ]
  },
  {
   "cell_type": "code",
   "execution_count": 31,
   "id": "f6695c7c",
   "metadata": {},
   "outputs": [
    {
     "name": "stdout",
     "output_type": "stream",
     "text": [
      "MLP Root Mean Squared Error (RMSE): 3.044648987755406\n"
     ]
    }
   ],
   "source": [
    "# คำนวณค่า RMSE (Root Mean Squared Error) สำหรับ MLP\n",
    "rmse_mlp = sqrt(mean_squared_error(y_test, y_pred_mlp))\n",
    "print(\"MLP Root Mean Squared Error (RMSE):\", rmse_mlp)"
   ]
  },
  {
   "cell_type": "code",
   "execution_count": 32,
   "id": "4b8b7769",
   "metadata": {},
   "outputs": [
    {
     "name": "stdout",
     "output_type": "stream",
     "text": [
      "MLP Mean Absolute Error (MAE): 2.238678432739723\n"
     ]
    }
   ],
   "source": [
    "# คำนวณค่า MAE (Mean Absolute Error) สำหรับ MLP\n",
    "mae_mlp = mean_absolute_error(y_test, y_pred_mlp)\n",
    "print(\"MLP Mean Absolute Error (MAE):\", mae_mlp)"
   ]
  },
  {
   "cell_type": "code",
   "execution_count": 34,
   "id": "9b9c21b2",
   "metadata": {},
   "outputs": [
    {
     "data": {
      "text/html": [
       "<style>#sk-container-id-4 {color: black;}#sk-container-id-4 pre{padding: 0;}#sk-container-id-4 div.sk-toggleable {background-color: white;}#sk-container-id-4 label.sk-toggleable__label {cursor: pointer;display: block;width: 100%;margin-bottom: 0;padding: 0.3em;box-sizing: border-box;text-align: center;}#sk-container-id-4 label.sk-toggleable__label-arrow:before {content: \"▸\";float: left;margin-right: 0.25em;color: #696969;}#sk-container-id-4 label.sk-toggleable__label-arrow:hover:before {color: black;}#sk-container-id-4 div.sk-estimator:hover label.sk-toggleable__label-arrow:before {color: black;}#sk-container-id-4 div.sk-toggleable__content {max-height: 0;max-width: 0;overflow: hidden;text-align: left;background-color: #f0f8ff;}#sk-container-id-4 div.sk-toggleable__content pre {margin: 0.2em;color: black;border-radius: 0.25em;background-color: #f0f8ff;}#sk-container-id-4 input.sk-toggleable__control:checked~div.sk-toggleable__content {max-height: 200px;max-width: 100%;overflow: auto;}#sk-container-id-4 input.sk-toggleable__control:checked~label.sk-toggleable__label-arrow:before {content: \"▾\";}#sk-container-id-4 div.sk-estimator input.sk-toggleable__control:checked~label.sk-toggleable__label {background-color: #d4ebff;}#sk-container-id-4 div.sk-label input.sk-toggleable__control:checked~label.sk-toggleable__label {background-color: #d4ebff;}#sk-container-id-4 input.sk-hidden--visually {border: 0;clip: rect(1px 1px 1px 1px);clip: rect(1px, 1px, 1px, 1px);height: 1px;margin: -1px;overflow: hidden;padding: 0;position: absolute;width: 1px;}#sk-container-id-4 div.sk-estimator {font-family: monospace;background-color: #f0f8ff;border: 1px dotted black;border-radius: 0.25em;box-sizing: border-box;margin-bottom: 0.5em;}#sk-container-id-4 div.sk-estimator:hover {background-color: #d4ebff;}#sk-container-id-4 div.sk-parallel-item::after {content: \"\";width: 100%;border-bottom: 1px solid gray;flex-grow: 1;}#sk-container-id-4 div.sk-label:hover label.sk-toggleable__label {background-color: #d4ebff;}#sk-container-id-4 div.sk-serial::before {content: \"\";position: absolute;border-left: 1px solid gray;box-sizing: border-box;top: 0;bottom: 0;left: 50%;z-index: 0;}#sk-container-id-4 div.sk-serial {display: flex;flex-direction: column;align-items: center;background-color: white;padding-right: 0.2em;padding-left: 0.2em;position: relative;}#sk-container-id-4 div.sk-item {position: relative;z-index: 1;}#sk-container-id-4 div.sk-parallel {display: flex;align-items: stretch;justify-content: center;background-color: white;position: relative;}#sk-container-id-4 div.sk-item::before, #sk-container-id-4 div.sk-parallel-item::before {content: \"\";position: absolute;border-left: 1px solid gray;box-sizing: border-box;top: 0;bottom: 0;left: 50%;z-index: -1;}#sk-container-id-4 div.sk-parallel-item {display: flex;flex-direction: column;z-index: 1;position: relative;background-color: white;}#sk-container-id-4 div.sk-parallel-item:first-child::after {align-self: flex-end;width: 50%;}#sk-container-id-4 div.sk-parallel-item:last-child::after {align-self: flex-start;width: 50%;}#sk-container-id-4 div.sk-parallel-item:only-child::after {width: 0;}#sk-container-id-4 div.sk-dashed-wrapped {border: 1px dashed gray;margin: 0 0.4em 0.5em 0.4em;box-sizing: border-box;padding-bottom: 0.4em;background-color: white;}#sk-container-id-4 div.sk-label label {font-family: monospace;font-weight: bold;display: inline-block;line-height: 1.2em;}#sk-container-id-4 div.sk-label-container {text-align: center;}#sk-container-id-4 div.sk-container {/* jupyter's `normalize.less` sets `[hidden] { display: none; }` but bootstrap.min.css set `[hidden] { display: none !important; }` so we also need the `!important` here to be able to override the default hidden behavior on the sphinx rendered scikit-learn.org. See: https://github.com/scikit-learn/scikit-learn/issues/21755 */display: inline-block !important;position: relative;}#sk-container-id-4 div.sk-text-repr-fallback {display: none;}</style><div id=\"sk-container-id-4\" class=\"sk-top-container\"><div class=\"sk-text-repr-fallback\"><pre>LinearRegression()</pre><b>In a Jupyter environment, please rerun this cell to show the HTML representation or trust the notebook. <br />On GitHub, the HTML representation is unable to render, please try loading this page with nbviewer.org.</b></div><div class=\"sk-container\" hidden><div class=\"sk-item\"><div class=\"sk-estimator sk-toggleable\"><input class=\"sk-toggleable__control sk-hidden--visually\" id=\"sk-estimator-id-4\" type=\"checkbox\" checked><label for=\"sk-estimator-id-4\" class=\"sk-toggleable__label sk-toggleable__label-arrow\">LinearRegression</label><div class=\"sk-toggleable__content\"><pre>LinearRegression()</pre></div></div></div></div></div>"
      ],
      "text/plain": [
       "LinearRegression()"
      ]
     },
     "execution_count": 34,
     "metadata": {},
     "output_type": "execute_result"
    }
   ],
   "source": [
    "lr = LinearRegression()\n",
    "lr.fit(X_train_scaled, y_train)"
   ]
  },
  {
   "cell_type": "code",
   "execution_count": 35,
   "id": "413af715",
   "metadata": {},
   "outputs": [],
   "source": [
    "y_pred_lr = lr.predict(X_test_scaled)"
   ]
  },
  {
   "cell_type": "code",
   "execution_count": 36,
   "id": "d530be58",
   "metadata": {},
   "outputs": [
    {
     "name": "stdout",
     "output_type": "stream",
     "text": [
      "Linear Regression Root Mean Squared Error (RMSE): 3.139701144881956\n"
     ]
    }
   ],
   "source": [
    "# คำนวณค่า RMSE (Root Mean Squared Error) สำหรับ Linear Regression\n",
    "rmse_lr = sqrt(mean_squared_error(y_test, y_pred_lr))\n",
    "print(\"Linear Regression Root Mean Squared Error (RMSE):\", rmse_lr)"
   ]
  },
  {
   "cell_type": "code",
   "execution_count": 37,
   "id": "367c0ca3",
   "metadata": {},
   "outputs": [
    {
     "name": "stdout",
     "output_type": "stream",
     "text": [
      "Linear Regression Mean Absolute Error (MAE): 2.460051363520259\n"
     ]
    }
   ],
   "source": [
    "# คำนวณค่า MAE (Mean Absolute Error) สำหรับ Linear Regression\n",
    "mae_lr = mean_absolute_error(y_test, y_pred_lr)\n",
    "print(\"Linear Regression Mean Absolute Error (MAE):\", mae_lr)"
   ]
  },
  {
   "cell_type": "markdown",
   "id": "1c62eef8",
   "metadata": {},
   "source": [
    "# ทดสอบ Model"
   ]
  },
  {
   "cell_type": "code",
   "execution_count": 40,
   "id": "6256aee3",
   "metadata": {},
   "outputs": [
    {
     "data": {
      "text/html": [
       "<div>\n",
       "<style scoped>\n",
       "    .dataframe tbody tr th:only-of-type {\n",
       "        vertical-align: middle;\n",
       "    }\n",
       "\n",
       "    .dataframe tbody tr th {\n",
       "        vertical-align: top;\n",
       "    }\n",
       "\n",
       "    .dataframe thead th {\n",
       "        text-align: right;\n",
       "    }\n",
       "</style>\n",
       "<table border=\"1\" class=\"dataframe\">\n",
       "  <thead>\n",
       "    <tr style=\"text-align: right;\">\n",
       "      <th></th>\n",
       "      <th>PM10</th>\n",
       "      <th>O3</th>\n",
       "      <th>CO</th>\n",
       "      <th>NO2</th>\n",
       "      <th>SO2</th>\n",
       "      <th>WS</th>\n",
       "      <th>WD</th>\n",
       "      <th>TEMP</th>\n",
       "      <th>RH</th>\n",
       "      <th>BP</th>\n",
       "      <th>RAIN</th>\n",
       "    </tr>\n",
       "  </thead>\n",
       "  <tbody>\n",
       "    <tr>\n",
       "      <th>0</th>\n",
       "      <td>32</td>\n",
       "      <td>9.0</td>\n",
       "      <td>0.31</td>\n",
       "      <td>7.0</td>\n",
       "      <td>1.0</td>\n",
       "      <td>1.4</td>\n",
       "      <td>183</td>\n",
       "      <td>28.3</td>\n",
       "      <td>87</td>\n",
       "      <td>750</td>\n",
       "      <td>0.0</td>\n",
       "    </tr>\n",
       "  </tbody>\n",
       "</table>\n",
       "</div>"
      ],
      "text/plain": [
       "   PM10   O3    CO  NO2  SO2   WS   WD  TEMP  RH   BP  RAIN\n",
       "0    32  9.0  0.31  7.0  1.0  1.4  183  28.3  87  750   0.0"
      ]
     },
     "execution_count": 40,
     "metadata": {},
     "output_type": "execute_result"
    }
   ],
   "source": [
    "test_data = {\n",
    "    \"PM10\": [32],\n",
    "    \"O3\": [9.0],\n",
    "    \"CO\": [0.31],\n",
    "    \"NO2\": [7.0],\n",
    "    \"SO2\": [1.0],\n",
    "    \"WS\": [1.4],\n",
    "    \"WD\": [183],\n",
    "    \"TEMP\": [28.3],\n",
    "    \"RH\": [87],\n",
    "    \"BP\": [750],\n",
    "    \"RAIN\": [0.0]\n",
    "}\n",
    "\n",
    "df_test = pd.DataFrame(test_data)\n",
    "df_test\n"
   ]
  },
  {
   "cell_type": "code",
   "execution_count": 42,
   "id": "cb41944f",
   "metadata": {},
   "outputs": [
    {
     "data": {
      "text/plain": [
       "array([[ 1.27741611, -0.34872666,  0.32542837, -0.11720574, -0.22727841,\n",
       "         0.37836458,  0.01584159, -0.00885934,  0.50361173,  0.43198176,\n",
       "        -0.13826791]])"
      ]
     },
     "execution_count": 42,
     "metadata": {},
     "output_type": "execute_result"
    }
   ],
   "source": [
    "test = scaler.transform(df_test)\n",
    "test"
   ]
  },
  {
   "cell_type": "code",
   "execution_count": 44,
   "id": "a5a18faa",
   "metadata": {},
   "outputs": [
    {
     "data": {
      "text/plain": [
       "array([10.60113865])"
      ]
     },
     "execution_count": 44,
     "metadata": {},
     "output_type": "execute_result"
    }
   ],
   "source": [
    "y_pred_svr = svr.predict(test)\n",
    "y_pred_svr"
   ]
  },
  {
   "cell_type": "code",
   "execution_count": 46,
   "id": "41490be0",
   "metadata": {},
   "outputs": [
    {
     "data": {
      "text/plain": [
       "array([9.90509604])"
      ]
     },
     "execution_count": 46,
     "metadata": {},
     "output_type": "execute_result"
    }
   ],
   "source": [
    "y_pred_mlp = mlp.predict(test)\n",
    "y_pred_mlp"
   ]
  },
  {
   "cell_type": "code",
   "execution_count": 47,
   "id": "28f4890e",
   "metadata": {},
   "outputs": [
    {
     "data": {
      "text/plain": [
       "array([12.53107607])"
      ]
     },
     "execution_count": 47,
     "metadata": {},
     "output_type": "execute_result"
    }
   ],
   "source": [
    "y_pred_lr = lr.predict(test)\n",
    "y_pred_lr"
   ]
  },
  {
   "cell_type": "code",
   "execution_count": null,
   "id": "7cd33b7c",
   "metadata": {},
   "outputs": [],
   "source": []
  }
 ],
 "metadata": {
  "kernelspec": {
   "display_name": "Python 3 (ipykernel)",
   "language": "python",
   "name": "python3"
  },
  "language_info": {
   "codemirror_mode": {
    "name": "ipython",
    "version": 3
   },
   "file_extension": ".py",
   "mimetype": "text/x-python",
   "name": "python",
   "nbconvert_exporter": "python",
   "pygments_lexer": "ipython3",
   "version": "3.11.5"
  }
 },
 "nbformat": 4,
 "nbformat_minor": 5
}
